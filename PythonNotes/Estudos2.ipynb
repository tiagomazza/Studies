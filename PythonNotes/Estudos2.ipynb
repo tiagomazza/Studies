{
  "nbformat": 4,
  "nbformat_minor": 0,
  "metadata": {
    "colab": {
      "provenance": [],
      "authorship_tag": "ABX9TyOBpNTziRnNYhElOucrmfom",
      "include_colab_link": true
    },
    "kernelspec": {
      "name": "python3",
      "display_name": "Python 3"
    },
    "language_info": {
      "name": "python"
    }
  },
  "cells": [
    {
      "cell_type": "markdown",
      "metadata": {
        "id": "view-in-github",
        "colab_type": "text"
      },
      "source": [
        "<a href=\"https://colab.research.google.com/github/tiagomazza/Python/blob/main/Untitled0copia.ipynb\" target=\"_parent\"><img src=\"https://colab.research.google.com/assets/colab-badge.svg\" alt=\"Open In Colab\"/></a>"
      ]
    },
    {
      "cell_type": "markdown",
      "source": [
        "Criei o Titulo deste Notebook"
      ],
      "metadata": {
        "id": "YnrIY7IK9erE"
      }
    },
    {
      "cell_type": "code",
      "execution_count": null,
      "metadata": {
        "id": "7j5fbyUERVul"
      },
      "outputs": [],
      "source": [
        "print (input(\"escreve\"))"
      ]
    },
    {
      "cell_type": "code",
      "source": [
        "# criação de classe\n",
        "class menu:\n",
        "  def __init__(self,preço,cor): #é sempre preciso o init\n",
        "    self.preço= preço \n",
        "    self.cor = cor\n",
        "cafe = menu(1,\"preto\")\n",
        "\n",
        "print (cafe.preço)\n",
        "\n"
      ],
      "metadata": {
        "colab": {
          "base_uri": "https://localhost:8080/"
        },
        "id": "cQIzKnqm1wFs",
        "outputId": "49a65807-4cfd-47ff-bbbb-e98252ace927"
      },
      "execution_count": null,
      "outputs": [
        {
          "output_type": "stream",
          "name": "stdout",
          "text": [
            "1\n"
          ]
        }
      ]
    },
    {
      "cell_type": "code",
      "source": [
        "#criar mais classes:\n",
        "\n",
        "class relationship: \n",
        "  def __init__(self,intensity,type):\n",
        "    self.intensity = intensity\n",
        "    self.type = type\n",
        "\n",
        "amor = relationship(\"high\",10)\n",
        "\n",
        "print (amor.intensity)\n",
        "\n",
        "\n"
      ],
      "metadata": {
        "colab": {
          "base_uri": "https://localhost:8080/"
        },
        "id": "IhsuJLkV7uXZ",
        "outputId": "341d6e4e-5e35-48d9-ddf5-7586b9fb5071"
      },
      "execution_count": null,
      "outputs": [
        {
          "output_type": "stream",
          "name": "stdout",
          "text": [
            "high\n"
          ]
        }
      ]
    },
    {
      "cell_type": "code",
      "source": [
        "def myFunc(nome):\n",
        "  global y\n",
        "  if len(nome) > 0 and nome.isalpha():\n",
        "   y = \"o seu nome é\" +str(nome)+\" e contém\" +str(len(nome))+ \"caracteres\"\n",
        "  else:\n",
        "    nome = input(\"introduza o seu nome\")\n",
        "  \n",
        "myFunc(y)\n",
        "print(y)\n"
      ],
      "metadata": {
        "colab": {
          "base_uri": "https://localhost:8080/"
        },
        "id": "y93OHGWyl53v",
        "outputId": "df6a6547-be89-4954-c2d0-b042cfe0b8a4"
      },
      "execution_count": null,
      "outputs": [
        {
          "output_type": "stream",
          "name": "stdout",
          "text": [
            "introduza o seu nomettttt\n",
            "o seu nome éttt e contém3caracteres\n"
          ]
        }
      ]
    },
    {
      "cell_type": "code",
      "source": [
        "#quando carregar em reservar\n",
        "#click.connect\n",
        "#fazer def\n",
        "campo =input(\"valor do campo\") #atribuir ao campo\n",
        "ReservasDesejadas = input(\"quantas reservas deseja?\")\n",
        "\n",
        "listaDeNomes = ['Fulano', 'Fulana', 'DeTal', 'Teste'] #aqui a minha base da dados\n",
        "QuantidadeDeReservas = [10,20,30,40]\n",
        "\n",
        "print (QuantidadeDeReservas) #lista primaria\n",
        "\n",
        "resultadoIndex= (listaDeNomes.index(campo))\n",
        "print(resultadoIndex)\n",
        "print(QuantidadeDeReservas.index(campo))\n",
        "\n",
        "QuantidadeDeReservas[1] = QuantidadeDeReservas[1] - int(ReservasDesejadas) #altera para valor do indice\n",
        "\n",
        "print (QuantidadeDeReservas)\n",
        "\n",
        "\n",
        "\n",
        "\n",
        "\n"
      ],
      "metadata": {
        "colab": {
          "base_uri": "https://localhost:8080/",
          "height": 304
        },
        "id": "6eNW1rkkqkAY",
        "outputId": "dab02c21-7385-42a9-991f-bb0b7f41c41c"
      },
      "execution_count": null,
      "outputs": [
        {
          "output_type": "stream",
          "name": "stdout",
          "text": [
            "valor do campoFulano\n",
            "quantas reservas deseja?5\n",
            "[10, 20, 30, 40]\n",
            "0\n"
          ]
        },
        {
          "output_type": "error",
          "ename": "ValueError",
          "evalue": "ignored",
          "traceback": [
            "\u001b[0;31m---------------------------------------------------------------------------\u001b[0m",
            "\u001b[0;31mValueError\u001b[0m                                Traceback (most recent call last)",
            "\u001b[0;32m<ipython-input-51-c730f0ca891e>\u001b[0m in \u001b[0;36m<module>\u001b[0;34m\u001b[0m\n\u001b[1;32m     12\u001b[0m \u001b[0mresultadoIndex\u001b[0m\u001b[0;34m=\u001b[0m \u001b[0;34m(\u001b[0m\u001b[0mlistaDeNomes\u001b[0m\u001b[0;34m.\u001b[0m\u001b[0mindex\u001b[0m\u001b[0;34m(\u001b[0m\u001b[0mcampo\u001b[0m\u001b[0;34m)\u001b[0m\u001b[0;34m)\u001b[0m\u001b[0;34m\u001b[0m\u001b[0;34m\u001b[0m\u001b[0m\n\u001b[1;32m     13\u001b[0m \u001b[0mprint\u001b[0m\u001b[0;34m(\u001b[0m\u001b[0mresultadoIndex\u001b[0m\u001b[0;34m)\u001b[0m\u001b[0;34m\u001b[0m\u001b[0;34m\u001b[0m\u001b[0m\n\u001b[0;32m---> 14\u001b[0;31m \u001b[0mprint\u001b[0m\u001b[0;34m(\u001b[0m\u001b[0mQuantidadeDeReservas\u001b[0m\u001b[0;34m.\u001b[0m\u001b[0mindex\u001b[0m\u001b[0;34m(\u001b[0m\u001b[0mcampo\u001b[0m\u001b[0;34m)\u001b[0m\u001b[0;34m)\u001b[0m\u001b[0;34m\u001b[0m\u001b[0;34m\u001b[0m\u001b[0m\n\u001b[0m\u001b[1;32m     15\u001b[0m \u001b[0;34m\u001b[0m\u001b[0m\n\u001b[1;32m     16\u001b[0m \u001b[0mQuantidadeDeReservas\u001b[0m\u001b[0;34m[\u001b[0m\u001b[0;36m1\u001b[0m\u001b[0;34m]\u001b[0m \u001b[0;34m=\u001b[0m \u001b[0mQuantidadeDeReservas\u001b[0m\u001b[0;34m[\u001b[0m\u001b[0;36m1\u001b[0m\u001b[0;34m]\u001b[0m \u001b[0;34m-\u001b[0m \u001b[0mint\u001b[0m\u001b[0;34m(\u001b[0m\u001b[0mReservasDesejadas\u001b[0m\u001b[0;34m)\u001b[0m \u001b[0;31m#altera para valor do indice\u001b[0m\u001b[0;34m\u001b[0m\u001b[0;34m\u001b[0m\u001b[0m\n",
            "\u001b[0;31mValueError\u001b[0m: 'Fulano' is not in list"
          ]
        }
      ]
    },
    {
      "cell_type": "code",
      "source": [
        "def myFunc(nome):\n",
        "  global y\n",
        "  if len(nome) > 0 and nome.isalpha():\n",
        "   y = \"o seu nome é\" +str(nome)+\" e contém\" +str(len(nome))+ \"caracteres\"\n",
        "  else:\n",
        "    nome = input(\"introduza o seu nome\")\n",
        "  \n",
        "myFunc(y)\n",
        "print(y)"
      ],
      "metadata": {
        "colab": {
          "base_uri": "https://localhost:8080/"
        },
        "id": "7XxbuLtYp_Vn",
        "outputId": "f85db433-72ac-4264-a6f5-aac59e5b32e8"
      },
      "execution_count": null,
      "outputs": [
        {
          "output_type": "stream",
          "name": "stdout",
          "text": [
            "introduza o seu nomeTiago\n",
            "o seu nome éttt e contém3caracteres\n"
          ]
        }
      ]
    },
    {
      "cell_type": "code",
      "source": [],
      "metadata": {
        "id": "tx2q7PThqDzR"
      },
      "execution_count": null,
      "outputs": []
    },
    {
      "cell_type": "code",
      "source": [
        " nome = input(\"introduza o seu nome\")\n",
        "if len(nome) > 0 and nome.isalpha():\n",
        "   y = \"o seu nome é\" +str(nome)+\" e contém\" +str(len(nome))+ \"caracteres\"\n",
        "else:\n",
        "     pass\n",
        " print (y)"
      ],
      "metadata": {
        "colab": {
          "base_uri": "https://localhost:8080/"
        },
        "id": "VuBeOVMPosD8",
        "outputId": "5647f470-cc46-4615-aa84-1cf68e719454"
      },
      "execution_count": null,
      "outputs": [
        {
          "output_type": "stream",
          "name": "stdout",
          "text": [
            "introduza o seu nomettt\n",
            "o seu nome éttt e contém3caracteres\n"
          ]
        }
      ]
    },
    {
      "cell_type": "code",
      "source": [],
      "metadata": {
        "id": "1Ggd45wBXul5"
      },
      "execution_count": null,
      "outputs": []
    },
    {
      "cell_type": "code",
      "source": [
        "  nome = input(\"coloque seu nome\")\n",
        "  if len(nome) > 3 and nome.isalpha():\n",
        "    print (\"obrigado por inserir seu nome com mais de 3 caracteres\")\n",
        "    y = nome\n",
        "  else: pass\n",
        "  print (\"obrigado por inserir seu nome com menos de 3 caracteres\")\n",
        "  y = \"nome pequenino\"\n",
        "    \n",
        "\n",
        "print (y)\n",
        "print(\"o seu nome é\" +str(nome)+\" e contém: \" +str(len(nome))+ \" caracteres\")"
      ],
      "metadata": {
        "id": "z7pib3scRW7P",
        "colab": {
          "base_uri": "https://localhost:8080/"
        },
        "outputId": "0e09dc8d-783d-4855-c600-3630063f5702"
      },
      "execution_count": null,
      "outputs": [
        {
          "output_type": "stream",
          "name": "stdout",
          "text": [
            "coloque seu nomer\n",
            "obrigado por inserir seu nome com menos de 3 caracteres\n",
            "nome pequenino\n",
            "o seu nome ér e contém: 1 caracteres\n"
          ]
        }
      ]
    },
    {
      "cell_type": "code",
      "source": [
        "\n",
        "## Criar classe\n",
        "### tem um erro aqui na abreviação da função\n",
        "class forró:\n",
        "  def __init__(self,velocidade,tempo):\n",
        "    self.velocidade = velocidade\n",
        "    self.tempo = tempo\n",
        "  \n",
        "  def velocidade():\n",
        "    return forró.velocidade\n",
        "\n",
        "\n",
        "baiao = forró(\"rapida\",3)\n",
        "a= \"baia grande\"\n",
        "b = str(baiao.velocidade)\n",
        "print (\"O \" +a, \"tem velocidade de:\"+baiao.velocidade)\n",
        "\n",
        "xote = forró(\"lenta\",4)\n",
        "print (xote.tempo)\n",
        "\n",
        "print (forró.velocidade())\n",
        "\n",
        "f=forró()\n",
        "print (f.tempo())"
      ],
      "metadata": {
        "colab": {
          "base_uri": "https://localhost:8080/",
          "height": 269
        },
        "id": "ibmI4fezXyR0",
        "outputId": "32562fb3-b050-4182-c24f-c862995944bf"
      },
      "execution_count": null,
      "outputs": [
        {
          "output_type": "stream",
          "name": "stdout",
          "text": [
            "O baia grande tem velocidade de:rapida\n",
            "4\n",
            "<function forró.velocidade at 0x7fd86c981ee0>\n"
          ]
        },
        {
          "output_type": "error",
          "ename": "TypeError",
          "evalue": "ignored",
          "traceback": [
            "\u001b[0;31m---------------------------------------------------------------------------\u001b[0m",
            "\u001b[0;31mTypeError\u001b[0m                                 Traceback (most recent call last)",
            "\u001b[0;32m<ipython-input-44-30fff9708bbe>\u001b[0m in \u001b[0;36m<module>\u001b[0;34m\u001b[0m\n\u001b[1;32m     19\u001b[0m \u001b[0mprint\u001b[0m \u001b[0;34m(\u001b[0m\u001b[0mforró\u001b[0m\u001b[0;34m.\u001b[0m\u001b[0mvelocidade\u001b[0m\u001b[0;34m(\u001b[0m\u001b[0;34m)\u001b[0m\u001b[0;34m)\u001b[0m\u001b[0;34m\u001b[0m\u001b[0;34m\u001b[0m\u001b[0m\n\u001b[1;32m     20\u001b[0m \u001b[0;34m\u001b[0m\u001b[0m\n\u001b[0;32m---> 21\u001b[0;31m \u001b[0mf\u001b[0m\u001b[0;34m=\u001b[0m\u001b[0mforró\u001b[0m\u001b[0;34m(\u001b[0m\u001b[0;34m)\u001b[0m\u001b[0;34m\u001b[0m\u001b[0;34m\u001b[0m\u001b[0m\n\u001b[0m\u001b[1;32m     22\u001b[0m \u001b[0mprint\u001b[0m \u001b[0;34m(\u001b[0m\u001b[0mf\u001b[0m\u001b[0;34m.\u001b[0m\u001b[0mtempo\u001b[0m\u001b[0;34m(\u001b[0m\u001b[0;34m)\u001b[0m\u001b[0;34m)\u001b[0m\u001b[0;34m\u001b[0m\u001b[0;34m\u001b[0m\u001b[0m\n",
            "\u001b[0;31mTypeError\u001b[0m: __init__() missing 2 required positional arguments: 'velocidade' and 'tempo'"
          ]
        }
      ]
    },
    {
      "cell_type": "code",
      "source": [
        "# definição que retorna\n",
        "def soma(a,b):\n",
        "     return a+b\n",
        "soma(5,10)\n",
        "\n",
        "\n",
        "def retornarString (a,b):\n",
        "     return (\"Digitou \" +a, \" e \" +b)\n",
        "retornarString(input(\"digite algo\"),input(\"digite outra coisa\"))\n",
        "\n",
        "\n",
        "\n",
        "\n",
        "\n",
        "\n",
        "\n"
      ],
      "metadata": {
        "colab": {
          "base_uri": "https://localhost:8080/",
          "height": 269
        },
        "id": "bFVAZ2mdlnby",
        "outputId": "69fedd2f-bbcb-4091-b851-bad96da1a7c6"
      },
      "execution_count": null,
      "outputs": [
        {
          "name": "stdout",
          "output_type": "stream",
          "text": [
            "digite algoisso\n",
            "digite outra coisaaquilo\n"
          ]
        },
        {
          "output_type": "error",
          "ename": "TypeError",
          "evalue": "ignored",
          "traceback": [
            "\u001b[0;31m---------------------------------------------------------------------------\u001b[0m",
            "\u001b[0;31mTypeError\u001b[0m                                 Traceback (most recent call last)",
            "\u001b[0;32m<ipython-input-50-5fc250253e3b>\u001b[0m in \u001b[0;36m<module>\u001b[0;34m\u001b[0m\n\u001b[1;32m     17\u001b[0m     \u001b[0;32mreturn\u001b[0m \u001b[0;34m(\u001b[0m\u001b[0;34m)\u001b[0m\u001b[0;34m\u001b[0m\u001b[0;34m\u001b[0m\u001b[0m\n\u001b[1;32m     18\u001b[0m \u001b[0;34m\u001b[0m\u001b[0m\n\u001b[0;32m---> 19\u001b[0;31m \u001b[0md\u001b[0m \u001b[0;34m=\u001b[0m \u001b[0mdados\u001b[0m\u001b[0;34m(\u001b[0m\u001b[0;34m)\u001b[0m\u001b[0;34m\u001b[0m\u001b[0;34m\u001b[0m\u001b[0m\n\u001b[0m\u001b[1;32m     20\u001b[0m \u001b[0;34m\u001b[0m\u001b[0m\n\u001b[1;32m     21\u001b[0m \u001b[0mprint\u001b[0m \u001b[0;34m(\u001b[0m\u001b[0md\u001b[0m\u001b[0;34m.\u001b[0m\u001b[0mnumeros\u001b[0m\u001b[0;34m)\u001b[0m\u001b[0;34m\u001b[0m\u001b[0;34m\u001b[0m\u001b[0m\n",
            "\u001b[0;31mTypeError\u001b[0m: __init__() missing 2 required positional arguments: 'letras' and 'numeros'"
          ]
        }
      ]
    },
    {
      "cell_type": "code",
      "source": [],
      "metadata": {
        "id": "AF7uJJoHl5FS"
      },
      "execution_count": null,
      "outputs": []
    },
    {
      "cell_type": "code",
      "source": [
        "class dados():\n",
        "  def __init__ (self,letras,numeros):\n",
        "    self.letras = letras\n",
        "    self.numeros =numeros\n",
        "\n",
        "  def retornarNumero(self):\n",
        "    return self.numeros\n",
        "\n",
        "texto = dados(\"abc\", 123)\n",
        "print(texto.letras)\n",
        "\n",
        "te =texto\n",
        "print (te.letras)\n",
        "\n",
        "\n",
        "t = texto.letras\n",
        "print (t)\n",
        "\n",
        "print(texto.retornarNumero) # oque é isso?"
      ],
      "metadata": {
        "colab": {
          "base_uri": "https://localhost:8080/"
        },
        "id": "hYq1230OpsbZ",
        "outputId": "4de58cf5-ad19-4f7e-d412-263d032c4f0b"
      },
      "execution_count": null,
      "outputs": [
        {
          "output_type": "stream",
          "name": "stdout",
          "text": [
            "abc\n",
            "abc\n",
            "abc\n",
            "<bound method dados.retornarNumero of <__main__.dados object at 0x7fd86c92fb20>>\n"
          ]
        }
      ]
    },
    {
      "cell_type": "code",
      "source": [
        "\n",
        "class computador():\n",
        "  def __init__(self,tela,cpu):\n",
        "    self.tela = tela\n",
        "    self.cpu = cpu\n",
        "  \n",
        "  def cabos (self):\n",
        "    return (self.tela)\n",
        "\n",
        "Dell = computador(\"grande\",\"boa\")\n",
        "Fujitsu = computador(\"pequena\",\"ruim\")\n",
        "\n",
        "ListaDeComputadores = [Dell,Fujitsu]\n",
        "\n",
        "\n",
        "contador = 2\n",
        "while contador != 0:\n",
        "  pc = input(\"digite uma marca de computador\")\n",
        "  pcTela = input(\"digite uma tela\")\n",
        "  pcCpu = input(\"digite uma cpu\")\n",
        "\n",
        "  pc = computador(pcTela,pcCpu)\n",
        "  ListaDeComputadores.append(pc)\n",
        "  contador = contador -1\n",
        "\n",
        "\n",
        "for i in ListaDeComputadores:\n",
        "  print (i.tela)\n",
        "  print (i.cpu)\n"
      ],
      "metadata": {
        "colab": {
          "base_uri": "https://localhost:8080/"
        },
        "id": "ycQRiHD_xrRE",
        "outputId": "0611f8d3-aea0-4032-dea0-f30f3f147c66"
      },
      "execution_count": null,
      "outputs": [
        {
          "output_type": "stream",
          "name": "stdout",
          "text": [
            "digite uma marca de computadorasus\n",
            "digite uma telaa\n",
            "digite uma cpua\n",
            "digite uma marca de computadorb\n",
            "digite uma telab\n",
            "digite uma cpub\n",
            "grande\n",
            "boa\n",
            "pequena\n",
            "ruim\n",
            "a\n",
            "a\n",
            "b\n",
            "b\n"
          ]
        }
      ]
    },
    {
      "cell_type": "code",
      "source": [],
      "metadata": {
        "id": "H_O3ynSw6MnH"
      },
      "execution_count": null,
      "outputs": []
    },
    {
      "cell_type": "code",
      "source": [
        "def imprimir():\n",
        "  print(\"imprimir\")\n",
        "\n",
        "\n",
        "imprimir()"
      ],
      "metadata": {
        "colab": {
          "base_uri": "https://localhost:8080/"
        },
        "id": "-t8vxUYSdEJV",
        "outputId": "3a82cd56-e38a-42e5-ec4e-74cc86d8be91"
      },
      "execution_count": null,
      "outputs": [
        {
          "output_type": "stream",
          "name": "stdout",
          "text": [
            "imprimir\n"
          ]
        }
      ]
    }
  ]
}