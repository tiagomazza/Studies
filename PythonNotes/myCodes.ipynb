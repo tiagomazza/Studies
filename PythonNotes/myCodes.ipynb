{
 "cells": [
  {
   "cell_type": "markdown",
   "metadata": {},
   "source": [
    "Markdown\n",
    "# grande\n",
    "## médio\n",
    "### pequeno"
   ]
  },
  {
   "cell_type": "code",
   "execution_count": null,
   "metadata": {},
   "outputs": [],
   "source": [
    "# grande\n",
    "## médio\n",
    "### pequeno"
   ]
  },
  {
   "attachments": {},
   "cell_type": "markdown",
   "metadata": {},
   "source": [
    "# Preparação\n",
    "### Instalar Anaconda <br>\n",
    "criar nova área de trabalho <br>\n",
    "instalar extensões: <br>\n",
    "    ipykernel <br>\n",
    "    numpy <br>\n",
    "    matplotlib <br>\n",
    "    pandas <br>\n",
    "instalar visualcode <br>\n",
    "    alterar kernel <br>\n",
    "    abrir novo terminal <br>\n",
    "    instalar: <br>\n",
    "        Jupyter <br>\n",
    "        pyton <br>\n",
    "        vscode-pdf <br> \n",
    "\n",
    "\n"
   ]
  },
  {
   "attachments": {},
   "cell_type": "markdown",
   "metadata": {},
   "source": [
    "# Atalhos Visual studio/ Jupyter Notebook no Windows\n",
    "ESC + M = new markdown <br/>\n",
    "ESC + B = new codeblock <br/>\n",
    "ENTER = block enter <br/>\n",
    "CTRL + ALT + WIN = New file <br/>\n",
    "SHIFT + ENTER = end block"
   ]
  },
  {
   "attachments": {},
   "cell_type": "markdown",
   "metadata": {},
   "source": [
    "# Atalho teclas\n",
    "alt + shift + 8 {}\n",
    "alt + 8 []"
   ]
  },
  {
   "cell_type": "markdown",
   "metadata": {},
   "source": [
    "# Variaveis <br>\n",
    "atibuições, castings, inputs e outputs"
   ]
  },
  {
   "cell_type": "code",
   "execution_count": null,
   "metadata": {},
   "outputs": [
    {
     "name": "stdout",
     "output_type": "stream",
     "text": [
      "0 1\n",
      "<class 'bool'> True\n",
      "Aqui temos as variáveis\n",
      " 1 2 6\n",
      "este texto00 texto0 texto\n"
     ]
    },
    {
     "data": {
      "text/plain": [
       "'Não precisa do print 0.000000 True'"
      ]
     },
     "execution_count": 18,
     "metadata": {},
     "output_type": "execute_result"
    }
   ],
   "source": [
    "\n",
    "var = 0 # criação atribuição de variaveis = Sinal utilizado para atribuição\n",
    "print(var,\"1\") #comando de impressão () delimitação do comando , separação de objetos\n",
    "input(\"Tudo digitado a seguir será String\") #solicitar entrada de dados direta\n",
    "var2= int(input(\"o digitado será a var2\")) #atribuição de variavel direto de input\n",
    "var2 = bool(var2) #alteração do tipo de dado int float str ou bol\n",
    "print (type(var2),var2) #impressão do tipo de variavel\n",
    "var3, var4, var5 = \"1\",\"2\",input(\"esta será a variavel 5\") #atribuição de varias variaveis e numeros como string\n",
    "print(f\"Aqui temos as variáveis\\n {var3} {var4} {var5}\") #utilizar indicaçcao de sting f e colocar variaveis \\n para quebrar linha\n",
    "print('este texto'+ str(var) + str(var), 'texto' + str(var), 'texto') #imprimir string com variaveis usando + con casting de variaveis (so imprime string)\n",
    "'Não precisa do print %f %s' % (var, var2) #variaveis aparecem printadas por ordem. converte no formato só para printar %s %f %b\n",
    "\n",
    "var1 = 1\n",
    "print (var1) # valor da variavel\n",
    "var1 += var1 # operações aritimeticas da mesma variavel (-,+,*,/,**,)\n",
    "print (var1) # novo valor da mesma variavel\n",
    "\n"
   ]
  },
  {
   "cell_type": "markdown",
   "metadata": {},
   "source": [
    "# Listas, tuples e dicionáris"
   ]
  },
  {
   "cell_type": "markdown",
   "metadata": {},
   "source": [
    "### Lista"
   ]
  },
  {
   "cell_type": "code",
   "execution_count": 3,
   "metadata": {},
   "outputs": [
    {
     "name": "stdout",
     "output_type": "stream",
     "text": [
      "['nome1', 'nome2', 'nome3', 'nome4', 'nome5', 'nome6']\n",
      "nome1\n",
      "nome6\n",
      "['nome1', 'nome2']\n",
      "['nome5', 'nome6']\n"
     ]
    }
   ],
   "source": [
    "myList = ['nome1','nome2', 'nome3'] #ciração de lista\n",
    "myList.append ('nome4',) #adicionar na lista\n",
    "myList[len(myList):]= ['nome5','nome6'] #adicionar varios elementos\n",
    "print (myList) #imprimir a lista inteira\n",
    "print (myList[0]) #imprimir indice da lista 0 é o primeiro\n",
    "print (myList[-1]) #imprimir ultimo\n",
    "print (myList[:2]) #até o indice\n",
    "print (myList [-2:]) #a partir de um indice\n"
   ]
  },
  {
   "cell_type": "markdown",
   "metadata": {},
   "source": [
    "### Dicionário"
   ]
  },
  {
   "cell_type": "code",
   "execution_count": 26,
   "metadata": {},
   "outputs": [
    {
     "name": "stdout",
     "output_type": "stream",
     "text": [
      "{'nome': 'Tiago', 'idade': 37}\n",
      "Tiago\n",
      "Ricardo\n",
      "{'nome': 'Tiago', 'idade': 37, 'altura': 1.78, 'peso': [76]}\n",
      "Alfredo\n"
     ]
    }
   ],
   "source": [
    "myDict = {'nome':'Tiago','idade':37}\n",
    "\n",
    "myDict2 = {\n",
    "'nome':'Tiago',\n",
    "'idade':37,\n",
    "'altura' : 1.78,\n",
    "'peso':[]\n",
    "}\n",
    "myDict2['peso'].append(76)#adicionar elementos\n",
    "print (myDict) #impressão do dicionario\n",
    "print (myDict['nome']) #impressão de chave do dicionario\n",
    "myDict['nome']='Ricardo' #alteração de entrada de dado\n",
    "print (myDict['nome']) #impressão da alteração de dado\n",
    "print (myDict2)\n",
    "\n",
    "#dicionario dentro do dicionário\n",
    "myDict3 ={ \n",
    "0: {'nome':'Tiago','peso':76,'altura':1.78},\n",
    "1: {'nome':'Ricardo','peso':77,'altura':1.79},\n",
    "2: {'nome':'Alfredo','peso':78,'altura':1.80}\n",
    "}\n",
    "print(myDict3[2]['nome']) #indicação de linha e chave\n",
    "\n"
   ]
  },
  {
   "cell_type": "markdown",
   "metadata": {},
   "source": [
    "### Triple"
   ]
  },
  {
   "cell_type": "code",
   "execution_count": 1,
   "metadata": {},
   "outputs": [
    {
     "name": "stdout",
     "output_type": "stream",
     "text": [
      "triple1\n",
      "('triple1', 'triple2', 'triple3')\n"
     ]
    }
   ],
   "source": [
    "myTriple = ('triple1','triple2','triple3')\n",
    "print (myTriple[0])\n",
    "print (myTriple)"
   ]
  },
  {
   "cell_type": "code",
   "execution_count": 20,
   "metadata": {},
   "outputs": [
    {
     "name": "stdout",
     "output_type": "stream",
     "text": [
      "Triple1\n",
      "triple1\n",
      "Triple1\n",
      "['house', 'car']\n",
      "['house', 'car', '1']\n",
      "<class '__main__.Camiseta'>\n",
      "[<__main__.Camiseta object at 0x7fb82e4b1c70>]\n"
     ]
    }
   ],
   "source": [
    "teste = myTriple[0] \n",
    "\n",
    "print (teste.capitalize())\n",
    "\n",
    "print(teste)\n",
    "\n",
    "teste1 = teste.capitalize()\n",
    "\n",
    "print(teste1)\n",
    "\n",
    "myWishList = [ \"house\", \"car\"]\n",
    "\n",
    "print (myWishList)\n",
    "\n",
    "myWishList.append(\"1\")\n",
    "print(myWishList)\n",
    "\n",
    "class Camiseta:\n",
    "\n",
    "    def __init__ (self,cor):\n",
    "        cor = \"branco\"\n",
    "listaCamisetas = []\n",
    "listaCamisetas.append (Camiseta(\"azul\"))\n",
    "print (Camiseta)  \n",
    "print (listaCamisetas)\n"
   ]
  },
  {
   "cell_type": "markdown",
   "metadata": {},
   "source": [
    "### Trabalho com String"
   ]
  },
  {
   "cell_type": "code",
   "execution_count": 28,
   "metadata": {},
   "outputs": [
    {
     "name": "stdout",
     "output_type": "stream",
     "text": [
      "P\n",
      "Pal\n",
      "Palavra1Palavra1Palavra1Palavra1Palavra1\n",
      "Palavra1Palavra2\n"
     ]
    }
   ],
   "source": [
    "myString = 'Palavra'\n",
    "myString1 = 'Palavra1'\n",
    "myString2 = 'Palavra2'\n",
    "\n",
    "print (myString1[0]) #indicar letra da string\n",
    "print (myString1 [0:3]) #range de impressão\n",
    "print (5*myString1) #ação de multiplicação na string\n",
    "print (myString1 + myString2) #ação de mosa na string\n",
    "\n",
    "lenString = len(myString) # Comprimento da string\n",
    "findString = myString.find('s') # Indice da primeira ocorrência de um elemento\n",
    "alphaString = myString.isalpha() # Retorna True se a string for alfabética\n",
    "digitString = myString.isdigit() # Retorna True se a string for digitos\n",
    "numericString = myString.isnumeric() # Retorna True se a string for digitos\n",
    "\n",
    "stripString = myString.strip() # Elimina espaços em branco à esquerda e direita\n",
    "lStripString = myString.lstrip() # Elimina espaços em branco à esquerda\n",
    "rStripString = myString.rstrip() # Elimina espaços em branco à direita\n",
    "listString = myString.split() # Retornar lista de elementos da string, separados pelo espaço entre palavras\n",
    "listString2 = myString.split(sep='o') # Retornar lista de elementos da string, separados pela letra \"o\"\n",
    "listString3 = list(myString) # Transformar cada caracter da string, num elemento de uma lista\n",
    "listString[0].capitalize() # Coloca a primeira letra da string como maiuscula\n",
    "lowerString = myString.lower() # Converte string para letras minusculas\n",
    "upperString = myString.upper() # Converte string para letras maiusculas\n"
   ]
  },
  {
   "cell_type": "markdown",
   "metadata": {},
   "source": [
    "# Condicionais\n",
    "### IF, ELIF, ELSE"
   ]
  },
  {
   "cell_type": "code",
   "execution_count": 3,
   "metadata": {},
   "outputs": [
    {
     "name": "stdout",
     "output_type": "stream",
     "text": [
      "Escolheu o numero 3\n",
      "chegou até o final\n"
     ]
    }
   ],
   "source": [
    "\n",
    "var2 = 2\n",
    "var3 = 3\n",
    "\n",
    "var1 = int(input(\"digite um numero de 1 a 3\"))\n",
    "\n",
    "if var1 == 1: #Operação da condicional com : no final\n",
    "    print ('você escolheu o numero 1')\n",
    "    quit () # sai do programa\n",
    "elif var1 == var2: #consicional de opção de senão\n",
    "    print ('escolheu o numero 2')\n",
    "    pass #passou todas as condições identadas todo if,elif precisa de responsta a condição\n",
    "elif var1 == var3:\n",
    "  print ('Escolheu o numero 3')#acaba com o programa\n",
    "else: #else com \"\":\"\" logo apos a sentença\n",
    "    print ('Não escolheu nenhum dos numeros')\n",
    "print ('chegou até o final')\n",
    "\n"
   ]
  },
  {
   "cell_type": "markdown",
   "metadata": {},
   "source": [
    "# Range"
   ]
  },
  {
   "cell_type": "code",
   "execution_count": 25,
   "metadata": {},
   "outputs": [
    {
     "name": "stdout",
     "output_type": "stream",
     "text": [
      "3 variaveis iguais\n",
      "são iguais\n",
      "Existe Tiago na lista\n",
      "1\n",
      "2\n"
     ]
    }
   ],
   "source": [
    "var1 = 1\n",
    "var2 = 1\n",
    "var3 = 1\n",
    "if var1 == var2 and var1 == var3: #comando and adiciona a condição\n",
    "    print (\"3 variaveis iguais\")\n",
    "elif var1 == var2 or var2 == var3 or var1 == var3: # comando ou adicionada a condição\n",
    "    print (\"2 das  3 variaveis são iguais\")\n",
    "else:\n",
    "    print (\"as  variaveis não são iguais\")\n",
    "\n",
    "if var1 is var2: #se um elemento é o mesmo que outro ( existe is not )\n",
    "    print ('são iguais')\n",
    "\n",
    "myList = ['Tiago',2,3,4]\n",
    "if 'Tiago' in myList: #verificar existencia de elemento em lista ( existe not in)\n",
    "    print('Existe Tiago na lista')\n",
    "\n",
    "\n",
    "\n"
   ]
  },
  {
   "cell_type": "markdown",
   "metadata": {},
   "source": [
    "# For e While"
   ]
  },
  {
   "cell_type": "code",
   "execution_count": 33,
   "metadata": {},
   "outputs": [
    {
     "name": "stdout",
     "output_type": "stream",
     "text": [
      "Tiago\n",
      "Ricardo\n",
      "Caetano\n",
      "apertou x\n"
     ]
    }
   ],
   "source": [
    "myList = ['Tiago','Ricardo','Caetano']\n",
    "for i in myList: # atribui ao elemento i o valor de cada item da lista e executa os comando abaixo\n",
    "    print (i)\n",
    "\n",
    "while input('aperte x') != 'x': #operação funciona enquanto operação determinar\n",
    "    print('aperte x') \n",
    "print ('apertou x')\n"
   ]
  },
  {
   "cell_type": "code",
   "execution_count": 9,
   "metadata": {},
   "outputs": [
    {
     "ename": "KeyboardInterrupt",
     "evalue": "Interrupted by user",
     "output_type": "error",
     "traceback": [
      "\u001b[0;31m---------------------------------------------------------------------------\u001b[0m",
      "\u001b[0;31mKeyboardInterrupt\u001b[0m                         Traceback (most recent call last)",
      "\u001b[0;32m/var/folders/1r/q5dtrl6d0j5gwd4dglvy22b80000gn/T/ipykernel_1722/1832900093.py\u001b[0m in \u001b[0;36m<module>\u001b[0;34m\u001b[0m\n\u001b[1;32m      2\u001b[0m \u001b[0mnomeNovo\u001b[0m \u001b[0;34m=\u001b[0m \u001b[0;34m\"Começo\"\u001b[0m\u001b[0;34m\u001b[0m\u001b[0;34m\u001b[0m\u001b[0m\n\u001b[1;32m      3\u001b[0m \u001b[0;32mwhile\u001b[0m \u001b[0mnomeNovo\u001b[0m \u001b[0;34m!=\u001b[0m \u001b[0;34m\"x\"\u001b[0m\u001b[0;34m:\u001b[0m\u001b[0;34m\u001b[0m\u001b[0;34m\u001b[0m\u001b[0m\n\u001b[0;32m----> 4\u001b[0;31m     \u001b[0mnomeNovo\u001b[0m \u001b[0;34m=\u001b[0m \u001b[0minput\u001b[0m\u001b[0;34m(\u001b[0m\u001b[0;34m\"digite um nome ou x para sair\"\u001b[0m\u001b[0;34m)\u001b[0m\u001b[0;34m\u001b[0m\u001b[0;34m\u001b[0m\u001b[0m\n\u001b[0m\u001b[1;32m      5\u001b[0m \u001b[0;34m\u001b[0m\u001b[0m\n\u001b[1;32m      6\u001b[0m     \u001b[0;32mif\u001b[0m \u001b[0mnomeNovo\u001b[0m \u001b[0;34m==\u001b[0m \u001b[0;34m\"x\"\u001b[0m\u001b[0;34m:\u001b[0m\u001b[0;34m\u001b[0m\u001b[0;34m\u001b[0m\u001b[0m\n",
      "\u001b[0;32m/opt/anaconda3/lib/python3.9/site-packages/ipykernel/kernelbase.py\u001b[0m in \u001b[0;36mraw_input\u001b[0;34m(self, prompt)\u001b[0m\n\u001b[1;32m   1175\u001b[0m                 \u001b[0;34m\"raw_input was called, but this frontend does not support input requests.\"\u001b[0m\u001b[0;34m\u001b[0m\u001b[0;34m\u001b[0m\u001b[0m\n\u001b[1;32m   1176\u001b[0m             )\n\u001b[0;32m-> 1177\u001b[0;31m         return self._input_request(\n\u001b[0m\u001b[1;32m   1178\u001b[0m             \u001b[0mstr\u001b[0m\u001b[0;34m(\u001b[0m\u001b[0mprompt\u001b[0m\u001b[0;34m)\u001b[0m\u001b[0;34m,\u001b[0m\u001b[0;34m\u001b[0m\u001b[0;34m\u001b[0m\u001b[0m\n\u001b[1;32m   1179\u001b[0m             \u001b[0mself\u001b[0m\u001b[0;34m.\u001b[0m\u001b[0m_parent_ident\u001b[0m\u001b[0;34m[\u001b[0m\u001b[0;34m\"shell\"\u001b[0m\u001b[0;34m]\u001b[0m\u001b[0;34m,\u001b[0m\u001b[0;34m\u001b[0m\u001b[0;34m\u001b[0m\u001b[0m\n",
      "\u001b[0;32m/opt/anaconda3/lib/python3.9/site-packages/ipykernel/kernelbase.py\u001b[0m in \u001b[0;36m_input_request\u001b[0;34m(self, prompt, ident, parent, password)\u001b[0m\n\u001b[1;32m   1217\u001b[0m             \u001b[0;32mexcept\u001b[0m \u001b[0mKeyboardInterrupt\u001b[0m\u001b[0;34m:\u001b[0m\u001b[0;34m\u001b[0m\u001b[0;34m\u001b[0m\u001b[0m\n\u001b[1;32m   1218\u001b[0m                 \u001b[0;31m# re-raise KeyboardInterrupt, to truncate traceback\u001b[0m\u001b[0;34m\u001b[0m\u001b[0;34m\u001b[0m\u001b[0m\n\u001b[0;32m-> 1219\u001b[0;31m                 \u001b[0;32mraise\u001b[0m \u001b[0mKeyboardInterrupt\u001b[0m\u001b[0;34m(\u001b[0m\u001b[0;34m\"Interrupted by user\"\u001b[0m\u001b[0;34m)\u001b[0m \u001b[0;32mfrom\u001b[0m \u001b[0;32mNone\u001b[0m\u001b[0;34m\u001b[0m\u001b[0;34m\u001b[0m\u001b[0m\n\u001b[0m\u001b[1;32m   1220\u001b[0m             \u001b[0;32mexcept\u001b[0m \u001b[0mException\u001b[0m\u001b[0;34m:\u001b[0m\u001b[0;34m\u001b[0m\u001b[0;34m\u001b[0m\u001b[0m\n\u001b[1;32m   1221\u001b[0m                 \u001b[0mself\u001b[0m\u001b[0;34m.\u001b[0m\u001b[0mlog\u001b[0m\u001b[0;34m.\u001b[0m\u001b[0mwarning\u001b[0m\u001b[0;34m(\u001b[0m\u001b[0;34m\"Invalid Message:\"\u001b[0m\u001b[0;34m,\u001b[0m \u001b[0mexc_info\u001b[0m\u001b[0;34m=\u001b[0m\u001b[0;32mTrue\u001b[0m\u001b[0;34m)\u001b[0m\u001b[0;34m\u001b[0m\u001b[0;34m\u001b[0m\u001b[0m\n",
      "\u001b[0;31mKeyboardInterrupt\u001b[0m: Interrupted by user"
     ]
    }
   ],
   "source": [
    "listaDeNomes = []\n",
    "nomeNovo = \"Começo\"\n",
    "while nomeNovo != \"x\":\n",
    "    nomeNovo = input(\"digite um nome ou x para sair\")\n",
    "\n",
    "    if nomeNovo == \"x\":\n",
    "        pass\n",
    "    else:\n",
    "        listaDeNomes.append (nomeNovo)\n",
    "            \n",
    "print (listaDeNomes)\n",
    "\n",
    "for i in listaDeNomes:\n",
    "    print (i)\n",
    "for letras in listaDeNomes:\n",
    "    print (len(letras))\n",
    "\n"
   ]
  },
  {
   "cell_type": "markdown",
   "metadata": {},
   "source": [
    "# Try e Except"
   ]
  },
  {
   "cell_type": "code",
   "execution_count": 52,
   "metadata": {},
   "outputs": [
    {
     "name": "stdout",
     "output_type": "stream",
     "text": [
      "4\n",
      "Terminou\n"
     ]
    }
   ],
   "source": [
    "var1 = 'Texto'\n",
    "var2 = 2\n",
    "try: # Tenta um tipo de operação\n",
    "    print (var1 + var2) \n",
    "except: #ação ao não conseguir realizar a operação\n",
    "   print ('Não foi possivel realizar a operação')\n",
    "finally: #### Pesquisar função do Finally\n",
    "    print ('Terminou')"
   ]
  },
  {
   "cell_type": "markdown",
   "metadata": {},
   "source": [
    "# Buscas e indices"
   ]
  },
  {
   "cell_type": "code",
   "execution_count": 15,
   "metadata": {},
   "outputs": [
    {
     "name": "stdout",
     "output_type": "stream",
     "text": [
      "3\n"
     ]
    }
   ],
   "source": [
    "varString = 'abcde'\n",
    "letra = \"de\"\n",
    "print(varString.find(letra))"
   ]
  },
  {
   "cell_type": "code",
   "execution_count": 2,
   "metadata": {},
   "outputs": [
    {
     "name": "stdout",
     "output_type": "stream",
     "text": [
      "[0, 4, 8]\n"
     ]
    }
   ],
   "source": [
    "variavelString = \"abc abc abc\"\n",
    "buscador = 'a'\n",
    "lista = [] #lista vazia\n",
    "for indiceDaBusca,caracter in enumerate(variavelString):\n",
    "    if(caracter == buscador):\n",
    "        lista.append(indiceDaBusca)\n",
    "print(lista)"
   ]
  },
  {
   "cell_type": "code",
   "execution_count": 4,
   "metadata": {},
   "outputs": [
    {
     "name": "stdout",
     "output_type": "stream",
     "text": [
      "[1, 5, 9]\n"
     ]
    }
   ],
   "source": [
    "s = 'abc abc abc'\n",
    "c = 'b'\n",
    "print([pos for pos, char in enumerate(s) if char == c])"
   ]
  },
  {
   "cell_type": "markdown",
   "metadata": {},
   "source": [
    "# Funções"
   ]
  },
  {
   "cell_type": "code",
   "execution_count": 6,
   "metadata": {},
   "outputs": [
    {
     "name": "stdout",
     "output_type": "stream",
     "text": [
      "Sentença fixa mesmo\n"
     ]
    }
   ],
   "source": [
    "def function (argumentos):\n",
    "    print (\"Sentença fixa \" + argumentos)\n",
    "\n",
    "\n",
    "function (\"mesmo\")"
   ]
  },
  {
   "cell_type": "code",
   "execution_count": 7,
   "metadata": {},
   "outputs": [
    {
     "name": "stdout",
     "output_type": "stream",
     "text": [
      "5\n"
     ]
    }
   ],
   "source": [
    "def soma (numero1, numero2):\n",
    "    print (numero1 + numero2)\n",
    "numeroInserido1 = int(input(\"numeroInserido1\"))\n",
    "numeroInserido2 = int(input(\"numeroInserido2\"))\n",
    "soma (numeroInserido1, numeroInserido2)"
   ]
  },
  {
   "cell_type": "code",
   "execution_count": 21,
   "metadata": {},
   "outputs": [
    {
     "data": {
      "text/plain": [
       "20.0"
      ]
     },
     "execution_count": 21,
     "metadata": {},
     "output_type": "execute_result"
    }
   ],
   "source": [
    "hora = input(\"quantas horas?\")\n",
    "valor = input(\"Valor da hora\")\n",
    "\n",
    "def calcular_pagamento(qtd_horas, valor_hora):\n",
    "    horas = float(qtd_horas)\n",
    "    taxa = float(valor_hora)\n",
    "    if horas <= 40:\n",
    "       salario=horas*taxa\n",
    "    else:\n",
    "        h_excd = horas - 40\n",
    "        salario = 40* taxa+(h_excd*(1.5*taxa))\n",
    "    return salario\n",
    "\n",
    "calcular_pagamento(hora,valor)"
   ]
  },
  {
   "cell_type": "markdown",
   "metadata": {},
   "source": [
    "## arg"
   ]
  },
  {
   "cell_type": "code",
   "execution_count": 1,
   "metadata": {},
   "outputs": [
    {
     "name": "stdout",
     "output_type": "stream",
     "text": [
      "First argument : ('quantidade', 'de', 'argumentos', 'indefinido')\n",
      "Next argument through *argv : quantidade\n",
      "Next argument through *argv : de\n",
      "Next argument through *argv : argumentos\n",
      "Next argument through *argv : indefinido\n"
     ]
    }
   ],
   "source": [
    "### funcão arg, utilizar *arg pois não se sabe o tamamnho\n",
    "\n",
    "\n",
    "def myFun(*arg1): #asterisco deixa a indefinição da quantidade\n",
    "    print(\"Argumentos:\", arg1) # impressão direta dos argumentos\n",
    "    for arg in arg1: # loop for sem saber a quantidade de argumentos\n",
    "        print(\"proximo argumento através de  *argv :\", arg) # execução do loop\n",
    " \n",
    " \n",
    "myFun('quantidade', \"de\", 'argumentos', 'indefinido')# esplanação de argumentos"
   ]
  },
  {
   "cell_type": "markdown",
   "metadata": {},
   "source": [
    "## karg"
   ]
  },
  {
   "cell_type": "code",
   "execution_count": 15,
   "metadata": {},
   "outputs": [
    {
     "name": "stdout",
     "output_type": "stream",
     "text": [
      "red\n",
      "250\n"
     ]
    }
   ],
   "source": [
    "###\n",
    "# **Karg\n",
    "class car(): #defining car class\n",
    "    def __init__(self,**kwargs): #args receives unlimited no. of arguments as an array\n",
    "        self.speed = kwargs['s'] #access args index like array does\n",
    "        self.color = kwargs['c']\n",
    "                 \n",
    "#creating objects of car class\n",
    "         \n",
    "audi=car(s=200,c='red')\n",
    "bmw=car(s=250,c='black')\n",
    "mb=car(s=190,c='white')\n",
    "    \n",
    "print(audi.color)\n",
    "print(bmw.speed)"
   ]
  },
  {
   "cell_type": "markdown",
   "metadata": {},
   "source": [
    "## Lambda"
   ]
  },
  {
   "cell_type": "code",
   "execution_count": 11,
   "metadata": {},
   "outputs": [
    {
     "name": "stdout",
     "output_type": "stream",
     "text": [
      "<function <lambda> at 0x7f9d494e0310>\n"
     ]
    }
   ],
   "source": [
    "### Lambdas\n",
    "x = lambda a:a+1\n",
    "print (x)"
   ]
  },
  {
   "cell_type": "code",
   "execution_count": 12,
   "metadata": {},
   "outputs": [
    {
     "name": "stdout",
     "output_type": "stream",
     "text": [
      "invoking function defined with def keyword:\n",
      "Finding cube of number:30\n",
      "27000\n",
      "invoking lambda function: 27000\n"
     ]
    }
   ],
   "source": [
    "def cube(y):\n",
    "    print(f\"Finding cube of number:{y}\")\n",
    "    return y * y * y\n",
    " \n",
    " \n",
    "lambda_cube = lambda num: num ** 3\n",
    " \n",
    "# invoking simple function\n",
    "print(\"invoking function defined with def keyword:\")\n",
    "print(cube(30))\n",
    "# invoking lambda function\n",
    "print(\"invoking lambda function:\", lambda_cube(30))"
   ]
  },
  {
   "cell_type": "markdown",
   "metadata": {},
   "source": [
    "# Manipulação de arquivo TXT"
   ]
  },
  {
   "cell_type": "code",
   "execution_count": 13,
   "metadata": {},
   "outputs": [
    {
     "name": "stdout",
     "output_type": "stream",
     "text": [
      "Output of Read function is \n",
      "Ola \n",
      "nome \n",
      "This is coloce uma cidade\n",
      "This is Paris2 \n",
      "This is London2 \n",
      "\n",
      "\n",
      "Output of Readline function is \n",
      "Ola \n",
      "\n",
      "\n",
      "Output of Read(9) function is \n",
      "Ola \n",
      "nome\n",
      "\n",
      "Output of Readline(9) function is \n",
      "Ola \n",
      "\n",
      "Output of Readlines function is \n",
      "['Ola \\n', 'nome \\n', 'This is coloce uma cidade\\n', 'This is Paris2 \\n', 'This is London2 \\n']\n",
      "\n"
     ]
    }
   ],
   "source": [
    "# Program to show various ways to read and\n",
    "# write data in a file.\n",
    "nome = \"Tiago\"\n",
    "file1 = open(\"myfile.txt\",\"w\")\n",
    "inserir = (\"coloce uma cidade\")\n",
    "if inserir == \"Porto\":\n",
    "    L = [\"This is \",inserir+ \"\\n\",\"This is Paris \\n\",\"This is London \\n\"] \n",
    "else:\n",
    "    L = [\"This is \",inserir+ \"\\n\",\"This is Paris2 \\n\",\"This is London2 \\n\"] \n",
    "# \\n is placed to indicate EOL (End of Line)\n",
    "file1.write (\"Ola \\nnome \\n\")\n",
    "file1.writelines(L)\n",
    "file1.close() #to change file access modes\n",
    "  \n",
    "file1 = open(\"myfile.txt\",\"r+\") \n",
    "  \n",
    "print(\"Output of Read function is \")\n",
    "print(file1.read())\n",
    "print()\n",
    "  \n",
    "# seek(n) takes the file handle to the nth\n",
    "# bite from the beginning.\n",
    "file1.seek(0) \n",
    "  \n",
    "print( \"Output of Readline function is \")\n",
    "print(file1.readline()) \n",
    "print()\n",
    "  \n",
    "file1.seek(0)\n",
    "  \n",
    "# To show difference between read and readline\n",
    "print(\"Output of Read(9) function is \") \n",
    "print(file1.read(9))\n",
    "print()\n",
    "  \n",
    "file1.seek(0)\n",
    "  \n",
    "print(\"Output of Readline(9) function is \") \n",
    "print(file1.readline(9))\n",
    "  \n",
    "file1.seek(0)\n",
    "# readlines function\n",
    "print(\"Output of Readlines function is \") \n",
    "print(file1.readlines()) \n",
    "print()\n",
    "file1.close()"
   ]
  },
  {
   "cell_type": "code",
   "execution_count": 5,
   "metadata": {},
   "outputs": [
    {
     "name": "stdout",
     "output_type": "stream",
     "text": [
      "2\n",
      "numero introduzido multiplicado por 2 é: 4\n"
     ]
    }
   ],
   "source": [
    "numlimput = input('coloque um numero')\n",
    "numero =int(numlimput)\n",
    "print (numero)\n",
    "print (f\"numero introduzido multiplicado por 2 é:\",numero *2 )"
   ]
  },
  {
   "cell_type": "code",
   "execution_count": 16,
   "metadata": {},
   "outputs": [
    {
     "data": {
      "text/plain": [
       "False"
      ]
     },
     "execution_count": 16,
     "metadata": {},
     "output_type": "execute_result"
    }
   ],
   "source": [
    "1>6"
   ]
  },
  {
   "cell_type": "code",
   "execution_count": 17,
   "metadata": {},
   "outputs": [
    {
     "data": {
      "text/plain": [
       "True"
      ]
     },
     "execution_count": 17,
     "metadata": {},
     "output_type": "execute_result"
    }
   ],
   "source": [
    "2==2 and 1>0"
   ]
  },
  {
   "cell_type": "code",
   "execution_count": 29,
   "metadata": {},
   "outputs": [
    {
     "name": "stdout",
     "output_type": "stream",
     "text": [
      "[2, 3, 4, 5, 8]\n",
      "[2, 4, 8]\n",
      "[3, 5]\n",
      "0\n"
     ]
    }
   ],
   "source": [
    "myList = [2,3,4,5]\n",
    "oddNumbers =[]\n",
    "evenNumbers = []\n",
    "totaloddNumbers = len(evenNumbers)\n",
    "myList.append (int(input(\"digite um numero de 0 a 9\")))\n",
    "\n",
    "print (myList)\n",
    "for verify in (myList):\n",
    "        if (verify%2) == 0:\n",
    "            oddNumbers.append(verify)\n",
    "        else:\n",
    "            evenNumbers.append(verify)\n",
    "print (oddNumbers)\n",
    "print (evenNumbers)\n",
    "print(totaloddNumbers)\n"
   ]
  },
  {
   "cell_type": "code",
   "execution_count": 32,
   "metadata": {},
   "outputs": [
    {
     "name": "stdout",
     "output_type": "stream",
     "text": [
      "[1, 2, 0]\n",
      "[1]\n",
      "[2, 0]\n",
      "São pares os numeros\n",
      "2\n",
      "0\n",
      "São impares os numeros\n",
      "1\n"
     ]
    }
   ],
   "source": [
    "#descobrir se o numero é par ou impar\n",
    "ListaDeNumeros =[]\n",
    "\n",
    "while 0 not in ListaDeNumeros:\n",
    "    ListaDeNumeros.append(int((input(\"Digite um numero ou 0 para terminara a verificação\"))))\n",
    "\n",
    "ListaDeNumerosPares = []\n",
    "ListaDeNumerosImpares =[]\n",
    "\n",
    "for Descobrir in (ListaDeNumeros):\n",
    "    if Descobrir%2 == 0:\n",
    "         ListaDeNumerosPares.append(Descobrir)\n",
    "    else: \n",
    "        ListaDeNumerosImpares.append(Descobrir)\n",
    "\n",
    "\n",
    "\n",
    "print (\"São pares os numeros:\")\n",
    "for imprimirPares in (ListaDeNumerosPares):\n",
    "    print (imprimirPares)\n",
    "\n",
    "print (\"São impares os numeros:\")\n",
    "for imprimirImpares in (ListaDeNumerosImpares):\n",
    "    print (imprimirImpares)\n",
    "\n"
   ]
  },
  {
   "cell_type": "code",
   "execution_count": 2,
   "metadata": {},
   "outputs": [
    {
     "name": "stdout",
     "output_type": "stream",
     "text": [
      "5\n",
      "25\n",
      "55\n",
      "<__main__.geeks object at 0x7ff1035e9d00>\n",
      "<__main__.geeks object at 0x7ff1035e90a0>\n",
      "<__main__.geeks object at 0x7ff1035e9d30>\n"
     ]
    }
   ],
   "source": [
    "class geeks:  \n",
    "    def __init__(self, x, y):  \n",
    "        self.x = x  \n",
    "        self.y = y \n",
    "          \n",
    "    def Sum(self): \n",
    "        print( self.x + self.y ) \n",
    "   \n",
    "list = []  \n",
    "list.append( geeks(2, 3) ) \n",
    "list.append( geeks(12, 13) ) \n",
    "list.append( geeks(22, 33) ) \n",
    "  \n",
    "for obj in list: \n",
    "    \n",
    "    obj.Sum() \n",
    "\n",
    "for i in list:\n",
    "    print (i)\n"
   ]
  },
  {
   "attachments": {},
   "cell_type": "markdown",
   "metadata": {},
   "source": [
    "# Classes\n"
   ]
  },
  {
   "cell_type": "code",
   "execution_count": 13,
   "metadata": {},
   "outputs": [
    {
     "name": "stdout",
     "output_type": "stream",
     "text": [
      "0\n",
      "2\n",
      "4\n",
      "preço: 5\n"
     ]
    }
   ],
   "source": [
    "class comidas:\n",
    "    preço = 0 #atributo necessário ou pass\n",
    "    calorias = 0\n",
    "\n",
    "fruta = comidas()\n",
    "pão = comidas()\n",
    "legume = comidas()\n",
    "\n",
    "print (fruta.preço)\n",
    "fruta.preço = 2 # atribuição de valores de objeto da classe\n",
    "print (fruta.preço)\n",
    "fruta.preço = (input(\"novo preço da fruta\"))\n",
    "print (fruta.preço)\n",
    "NovoPreçoDaFruta = input(\"Outro preço da fruta\")\n",
    "fruta.preço = NovoPreçoDaFruta\n",
    "print (f\"preço: {fruta.preço}\") #print com fstring\n"
   ]
  },
  {
   "cell_type": "code",
   "execution_count": 36,
   "metadata": {},
   "outputs": [
    {
     "name": "stdout",
     "output_type": "stream",
     "text": [
      "preto\n",
      "10\n",
      "1000\n"
     ]
    }
   ],
   "source": [
    "class bebida:\n",
    "    def __init__(self,cor,gosto,stock):\n",
    "        self.corInit = cor\n",
    "        self.gostoInit = gosto\n",
    "        self.stockInit = stock\n",
    "\n",
    "\n",
    "stockDoSumo = 10\n",
    "sumo =bebida(\"cor\",\"gosto\",stockDoSumo)\n",
    "\n",
    "gostoInit = \"docê\"\n",
    "sumo.corInit =(input(f\"digite a cor do Sumo \"))\n",
    "print (sumo.corInit)\n",
    "print (sumo.stockInit)\n",
    "sumo.stockInit = 1000\n",
    "print (sumo.stockInit)"
   ]
  },
  {
   "cell_type": "code",
   "execution_count": 55,
   "metadata": {},
   "outputs": [
    {
     "name": "stdout",
     "output_type": "stream",
     "text": [
      "{<function cardapio.RetornarPreço at 0x7fb06be28310>}\n"
     ]
    }
   ],
   "source": [
    "#Restaurante Classes\n",
    "\n",
    "class cardapio:\n",
    "    def __init__(self,preço):\n",
    "        preçoInit = preço\n",
    "    \n",
    "    def RetornarPreço(self):\n",
    "        return self.preço\n",
    "\n",
    "class comida (cardapio):\n",
    "    def __init(self,preço,gosto):\n",
    "        super().__init__(preço)\n",
    "        self.gostoint =gosto # pq tem self aqui eu não sei\n",
    "        gosto = comida.RetornarGosto()\n",
    "\n",
    "    def RetornarGosto(self):\n",
    "        return self.gostoInit\n",
    "        \n",
    "preçoInit = 10\n",
    "Cpreço = 0\n",
    "Cgosto = \"doce\"\n",
    "Novacomida =comida(Cgosto)\n",
    "\n",
    "print ( {cardapio.RetornarPreço})\n",
    "\n"
   ]
  },
  {
   "attachments": {},
   "cell_type": "markdown",
   "metadata": {},
   "source": [
    "Terminar Classes\n",
    "manipular ficheiors CSV JSON TXT\n",
    "Pandas (tabela de daos)\n",
    "Numpy (arrays)\n",
    "MatplotLib (graficos)\n",
    "Pyqt"
   ]
  }
 ],
 "metadata": {
  "kernelspec": {
   "display_name": "Python 3.9.13 ('base')",
   "language": "python",
   "name": "python3"
  },
  "language_info": {
   "codemirror_mode": {
    "name": "ipython",
    "version": 3
   },
   "file_extension": ".py",
   "mimetype": "text/x-python",
   "name": "python",
   "nbconvert_exporter": "python",
   "pygments_lexer": "ipython3",
   "version": "3.9.13 (main, Aug 25 2022, 18:29:29) \n[Clang 12.0.0 ]"
  },
  "orig_nbformat": 4,
  "vscode": {
   "interpreter": {
    "hash": "40d3a090f54c6569ab1632332b64b2c03c39dcf918b08424e98f38b5ae0af88f"
   }
  }
 },
 "nbformat": 4,
 "nbformat_minor": 2
}
